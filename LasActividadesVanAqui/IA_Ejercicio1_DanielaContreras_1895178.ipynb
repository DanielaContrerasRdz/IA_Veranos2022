{
  "nbformat": 4,
  "nbformat_minor": 0,
  "metadata": {
    "colab": {
      "name": "IA_Ejercicio1_DanielaContreras_1895178.ipynb",
      "provenance": []
    },
    "kernelspec": {
      "name": "python3",
      "display_name": "Python 3"
    },
    "language_info": {
      "name": "python"
    }
  },
  "cells": [
    {
      "cell_type": "markdown",
      "source": [
        "# **Actividad 2.- Ejercicios en Python**\n",
        "\n",
        "## *Daniela Patricia Contreras Rodríguez 1895178*\n",
        "\n",
        "### *N4-N5 (7:15 p.m. - 9:30 p.m.)*"
      ],
      "metadata": {
        "id": "iNfEexnVhC5H"
      }
    },
    {
      "cell_type": "markdown",
      "source": [
        "**1. Programa que le solicita al usuario su nombre y que lo saluda con su nombre, excepto si se llama “Ana”, “Juan”, y “Pedro”.**"
      ],
      "metadata": {
        "id": "_Gp1eTiYjKGL"
      }
    },
    {
      "cell_type": "code",
      "source": [
        "# Para solicitar el nombre del usuario\n",
        "name=input(\"Introduzca su nombre: \")\n",
        "\n",
        "# En dado caso que el nombre sea alguno de las excepciones\n",
        "a = \"Ana\"\n",
        "b = \"Juan\"\n",
        "c = \"Pedro\"\n",
        "if name==a or name==b or name==c:\n",
        "  print(\"Ese nombre no es válido, no se me permite saludarte\")\n",
        "else:\n",
        "    print(\"¡Hola: \" + name + \"!\")"
      ],
      "metadata": {
        "colab": {
          "base_uri": "https://localhost:8080/"
        },
        "id": "k6Naq4lqj19o",
        "outputId": "c76fa2ac-b7a9-4280-c41e-02725bd28ff6"
      },
      "execution_count": 1,
      "outputs": [
        {
          "output_type": "stream",
          "name": "stdout",
          "text": [
            "Introduzca su nombre: Daniela\n",
            "¡Hola: Daniela!\n"
          ]
        }
      ]
    },
    {
      "cell_type": "markdown",
      "source": [
        "**2.Función que regrese el último elemento de una lista y que revierta el orden de la lista e imprima la lista revertida.**"
      ],
      "metadata": {
        "id": "vcUbioeUpmZo"
      }
    },
    {
      "cell_type": "code",
      "source": [
        "# Lista de materias de la carrera de Ingeniero Biomédico\n",
        "thislist = [\"Microcontroladores\", \"Metrología\", \"Inteligencia Artificial\"]\n",
        "print(\"La lista es: \" , thislist)\n",
        "\n",
        "# Para regresar el último elemento\n",
        "print(\"El último elemento de la lista es: \" + thislist[-1])\n",
        "\n",
        "# Para imprimir la lista revertida\n",
        "def my_function(rlist):\n",
        "  list2 = list(reversed(rlist))\n",
        "  print(\"La lista revertida es: \" , list2)\n",
        "\n",
        "my_function(thislist)"
      ],
      "metadata": {
        "colab": {
          "base_uri": "https://localhost:8080/"
        },
        "id": "AqH-SHYTqQFn",
        "outputId": "95a962f9-0d12-406f-a115-7282235488f2"
      },
      "execution_count": 9,
      "outputs": [
        {
          "output_type": "stream",
          "name": "stdout",
          "text": [
            "La lista es:  ['Microcontroladores', 'Metrología', 'Inteligencia Artificial']\n",
            "El último elemento de la lista es: Inteligencia Artificial\n",
            "La lista revertida es:  ['Inteligencia Artificial', 'Metrología', 'Microcontroladores']\n"
          ]
        }
      ]
    },
    {
      "cell_type": "markdown",
      "source": [
        "**3.Función que toma una lista de strings y los imprime línea por línea dentro de un marco rectangular.**"
      ],
      "metadata": {
        "id": "XOTey_8pAR-S"
      }
    },
    {
      "cell_type": "code",
      "source": [
        "# Lista de strings\n",
        "thislist = [\"******\", \"Hola  \", \"a     \", \"todos,\", \"esta  \", \"es    \", \"la    \", \"clase \", \"de    \", \"IA    \", \"******\"]\n",
        "\n",
        "# Para imprimir la lista por líneas y en un recuadro\n",
        "def my_function(recuadro):\n",
        "  izq = [\"*\"]\n",
        "  der = [\"*\"]\n",
        "  for x in izq:\n",
        "    for y in recuadro:\n",
        "      for z in der:\n",
        "        print(x, y, z)\n",
        "\n",
        "my_function(thislist)"
      ],
      "metadata": {
        "colab": {
          "base_uri": "https://localhost:8080/"
        },
        "id": "ur6NyhydA-Cs",
        "outputId": "8446377c-1e56-46d1-e15b-724f8a32986c"
      },
      "execution_count": 11,
      "outputs": [
        {
          "output_type": "stream",
          "name": "stdout",
          "text": [
            "* ****** *\n",
            "* Hola   *\n",
            "* a      *\n",
            "* todos, *\n",
            "* esta   *\n",
            "* es     *\n",
            "* la     *\n",
            "* clase  *\n",
            "* de     *\n",
            "* IA     *\n",
            "* ****** *\n"
          ]
        }
      ]
    }
  ]
}