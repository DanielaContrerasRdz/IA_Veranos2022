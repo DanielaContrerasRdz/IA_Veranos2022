{
  "nbformat": 4,
  "nbformat_minor": 0,
  "metadata": {
    "colab": {
      "name": "IA_Ejercicio1_DanielaContreras_1895178.ipynb",
      "provenance": []
    },
    "kernelspec": {
      "name": "python3",
      "display_name": "Python 3"
    },
    "language_info": {
      "name": "python"
    }
  },
  "cells": [
    {
      "cell_type": "markdown",
      "source": [
        "# **Actividad 2.- Ejercicios en Python**\n",
        "\n",
        "## *Daniela Patricia Contreras Rodríguez 1895178*\n",
        "\n",
        "### *N4-N5 (7:15 p.m. - 9:30 p.m.)*"
      ],
      "metadata": {
        "id": "iNfEexnVhC5H"
      }
    },
    {
      "cell_type": "markdown",
      "source": [
        "**1. Programa que le solicita al usuario su nombre y que lo saluda con su nombre, excepto si se llama “Ana”, “Juan”, y “Pedro”.**"
      ],
      "metadata": {
        "id": "_Gp1eTiYjKGL"
      }
    },
    {
      "cell_type": "code",
      "source": [
        "# Para solicitar el nombre del usuario\n",
        "name=input(\"Introduzca su nombre: \")\n",
        "\n",
        "# En dado caso que el nombre sea alguno de las excepciones\n",
        "a = \"Ana\"\n",
        "b = \"Juan\"\n",
        "c = \"Pedro\"\n",
        "if name==a or name==b or name==c:\n",
        "  print(\"Ese nombre no es válido, no se me permite saludarte\")\n",
        "else:\n",
        "    print(\"¡Hola: \" + name + \"!\")"
      ],
      "metadata": {
        "colab": {
          "base_uri": "https://localhost:8080/"
        },
        "id": "k6Naq4lqj19o",
        "outputId": "e20f17ab-3ffc-4036-ea3b-014beb8b7b96"
      },
      "execution_count": 1,
      "outputs": [
        {
          "output_type": "stream",
          "name": "stdout",
          "text": [
            "Introduzca su nombre: Daniela\n",
            "¡Hola: Daniela!\n"
          ]
        }
      ]
    },
    {
      "cell_type": "markdown",
      "source": [
        "**2.Función que regrese el último elemento de una lista y que revierta el orden de la lista e imprima la lista revertida.**"
      ],
      "metadata": {
        "id": "vcUbioeUpmZo"
      }
    },
    {
      "cell_type": "code",
      "source": [
        "# Lista de materias de la carrera de Ingeniero Biomédico\n",
        "thislist = [\"Microcontroladores\", \"Metrología\", \"Inteligencia Artificial\"]\n",
        "\n",
        "# Para regresar el último elemento e imprimir la lista revertida\n",
        "print(\"El último elemento de la lista es: \" + thislist[-1])\n",
        "rlist = list(reversed(thislist))\n",
        "print(\"La lista revertida es: \" , rlist)"
      ],
      "metadata": {
        "colab": {
          "base_uri": "https://localhost:8080/"
        },
        "id": "AqH-SHYTqQFn",
        "outputId": "7fad37a0-fab5-47e6-b5b6-7427d8b37d14"
      },
      "execution_count": 2,
      "outputs": [
        {
          "output_type": "stream",
          "name": "stdout",
          "text": [
            "El último elemento de la lista es: Inteligencia Artificial\n",
            "La lista revertida es:  ['Inteligencia Artificial', 'Metrología', 'Microcontroladores']\n"
          ]
        }
      ]
    },
    {
      "cell_type": "markdown",
      "source": [
        "**3.Función que toma una lista de strings y los imprime línea por línea en un marco rectangular.**"
      ],
      "metadata": {
        "id": "XOTey_8pAR-S"
      }
    },
    {
      "cell_type": "code",
      "source": [
        "# Lista de strings\n",
        "thislist = [\"******\", \"Hola  \", \"a     \", \"todos,\", \"esta  \", \"es    \", \"la    \", \"clase \", \"de    \", \"IA    \", \"******\"]\n",
        "\n",
        "# Para imprimir la lista por líneas y en un recuadro\n",
        "izq = [\"*\"]\n",
        "der = [\"*\"]\n",
        "for x in izq:\n",
        "  for y in thislist:\n",
        "    for z in der:\n",
        "      print(x, y, z)"
      ],
      "metadata": {
        "colab": {
          "base_uri": "https://localhost:8080/"
        },
        "id": "ur6NyhydA-Cs",
        "outputId": "914aa948-991c-4cee-f974-ad5d3b7a355e"
      },
      "execution_count": 3,
      "outputs": [
        {
          "output_type": "stream",
          "name": "stdout",
          "text": [
            "* ****** *\n",
            "* Hola   *\n",
            "* a      *\n",
            "* todos, *\n",
            "* esta   *\n",
            "* es     *\n",
            "* la     *\n",
            "* clase  *\n",
            "* de     *\n",
            "* IA     *\n",
            "* ****** *\n"
          ]
        }
      ]
    }
  ]
}